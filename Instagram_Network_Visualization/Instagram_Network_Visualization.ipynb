{
 "cells": [
  {
   "cell_type": "code",
   "execution_count": 1,
   "metadata": {},
   "outputs": [],
   "source": [
    "import igraph as ig\n",
    "import time\n",
    "import json\n",
    "import requests\n",
    "from random import shuffle\n",
    "import plotly\n",
    "import plotly.plotly as py\n",
    "from plotly.graph_objs import *"
   ]
  },
  {
   "cell_type": "code",
   "execution_count": 2,
   "metadata": {},
   "outputs": [],
   "source": [
    "#Get the API key and username from the https://plot.ly\n",
    "username = \"\"\n",
    "api_key = \"\"\n",
    "plotly.tools.set_credentials_file(username= username, api_key=api_key)"
   ]
  },
  {
   "cell_type": "code",
   "execution_count": 3,
   "metadata": {},
   "outputs": [],
   "source": [
    "#load file\n",
    "network = json.load(open('network.json'))"
   ]
  },
  {
   "cell_type": "code",
   "execution_count": 4,
   "metadata": {},
   "outputs": [
    {
     "name": "stdout",
     "output_type": "stream",
     "text": [
      "689\n"
     ]
    }
   ],
   "source": [
    "print(len(network))"
   ]
  },
  {
   "cell_type": "code",
   "execution_count": 5,
   "metadata": {},
   "outputs": [],
   "source": [
    "#1 is visible - public\n",
    "#0 is invisible - private\n",
    "all_users = {}\n",
    "labels = []\n",
    "group = []\n",
    "all_users['throughshutter'] = 0\n",
    "group.append(1)\n",
    "labels.append('throughshutter')\n",
    "first = network['throughshutter']\n",
    "number = 1\n",
    "for a,b,c in first:\n",
    "    all_users[str(a)] = number\n",
    "    labels.append(a)\n",
    "    if c == False:\n",
    "        group.append(1)\n",
    "    else:\n",
    "        group.append(0)\n",
    "    number = number+1"
   ]
  },
  {
   "cell_type": "code",
   "execution_count": 6,
   "metadata": {},
   "outputs": [],
   "source": [
    "for a,b,c in first:\n",
    "    child = network[str(a)]\n",
    "    for d,e,f in child:\n",
    "        if str(d) in all_users:\n",
    "            continue\n",
    "        else:\n",
    "            all_users[str(d)] = number\n",
    "            labels.append(d)\n",
    "            if f == False:\n",
    "                group.append(1)\n",
    "            else:\n",
    "                group.append(0)\n",
    "            number = number+1"
   ]
  },
  {
   "cell_type": "code",
   "execution_count": 7,
   "metadata": {},
   "outputs": [],
   "source": [
    "#print(all_users['throughshutter'])"
   ]
  },
  {
   "cell_type": "code",
   "execution_count": 8,
   "metadata": {},
   "outputs": [],
   "source": [
    "edges=[]\n",
    "for a,b in network.items():\n",
    "    for item in b:\n",
    "        edges.append((all_users[a],all_users[item[0]]))\n",
    "edges = edges[:10000]\n",
    "shuffle(edges)\n",
    "edges = edges[:10000]\n",
    "#print(len(edges))\n",
    "#print(edges)"
   ]
  },
  {
   "cell_type": "code",
   "execution_count": 9,
   "metadata": {},
   "outputs": [],
   "source": [
    "edges=[]\n",
    "root = list(network.keys())[0]\n",
    "childs = list(network.values())[0]\n",
    "network.pop(root)\n",
    "connections = {}\n",
    "connections['throughshutter'] = len(childs)\n",
    "for item in childs:\n",
    "    edges.append((all_users[root],all_users[item[0]]))"
   ]
  },
  {
   "cell_type": "code",
   "execution_count": 10,
   "metadata": {},
   "outputs": [],
   "source": [
    "for a,b in network.items():\n",
    "    common = []\n",
    "    for item1 in b:\n",
    "        for item2 in childs:\n",
    "            if item1[0] == item2[0]:\n",
    "                #print(item1,item2)\n",
    "                common.append(item1)\n",
    "    #print(a,common)\n",
    "    for item in common:\n",
    "        edges.append((all_users[a],all_users[item[0]]))\n",
    "    if len(common) != 0:\n",
    "        connections[a] = len(common)"
   ]
  },
  {
   "cell_type": "code",
   "execution_count": 11,
   "metadata": {},
   "outputs": [
    {
     "name": "stdout",
     "output_type": "stream",
     "text": [
      "11702\n"
     ]
    }
   ],
   "source": [
    "print(len(edges))"
   ]
  },
  {
   "cell_type": "code",
   "execution_count": 12,
   "metadata": {},
   "outputs": [],
   "source": [
    "label_temp = labels\n",
    "labels = []\n",
    "for item in label_temp:\n",
    "    try:\n",
    "        labels.append(item+\" has \"+str(connections[item]) + \" common connections\")\n",
    "    except:\n",
    "        labels.append(item)"
   ]
  },
  {
   "cell_type": "code",
   "execution_count": 13,
   "metadata": {},
   "outputs": [],
   "source": [
    "G=ig.Graph(edges, directed=False)\n",
    "layt=G.layout('kk', dim=3) #else use drl"
   ]
  },
  {
   "cell_type": "code",
   "execution_count": 14,
   "metadata": {},
   "outputs": [],
   "source": [
    "N = len(layt)\n",
    "Xn=[layt[k][0] for k in range(N)]# x-coordinates of nodes\n",
    "Yn=[layt[k][1] for k in range(N)]# y-coordinates\n",
    "Zn=[layt[k][2] for k in range(N)]# z-coordinates\n",
    "Xe=[]\n",
    "Ye=[]\n",
    "Ze=[]\n",
    "for e in edges:\n",
    "    Xe+=[layt[e[0]][0],layt[e[1]][0], None]# x-coordinates of edge ends\n",
    "    Ye+=[layt[e[0]][1],layt[e[1]][1], None]  \n",
    "    Ze+=[layt[e[0]][2],layt[e[1]][2], None]  "
   ]
  },
  {
   "cell_type": "code",
   "execution_count": 15,
   "metadata": {},
   "outputs": [],
   "source": [
    "trace1=Scatter3d(x=Xe,\n",
    "               y=Ye,\n",
    "               z=Ze,\n",
    "               mode='lines',\n",
    "               line=Line(color='rgb(125,125,125)', width=1),\n",
    "               hoverinfo='none'\n",
    "               )\n",
    "trace2=Scatter3d(x=Xn,\n",
    "               y=Yn,\n",
    "               z=Zn,  \n",
    "               mode='markers',\n",
    "               name='actors',\n",
    "               marker=Marker(symbol='dot',\n",
    "                             size=6, \n",
    "                             color=group, \n",
    "                             colorscale='Viridis',\n",
    "                             line=Line(color='rgb(50,50,50)', width=0.5)\n",
    "                             ),\n",
    "               text=labels,\n",
    "               hoverinfo='text'\n",
    "               )"
   ]
  },
  {
   "cell_type": "code",
   "execution_count": 16,
   "metadata": {},
   "outputs": [],
   "source": [
    "axis=dict(showbackground=False,\n",
    "          showline=False,  \n",
    "          zeroline=False,\n",
    "          showgrid=False,\n",
    "          showticklabels=False,\n",
    "          title='' \n",
    "          )"
   ]
  },
  {
   "cell_type": "code",
   "execution_count": 17,
   "metadata": {},
   "outputs": [],
   "source": [
    "layout = Layout(\n",
    "         title=\"Instagram Network Visualization by Ayush Joshi\", \n",
    "         width=1000,\n",
    "         height=1000,\n",
    "         showlegend=False,\n",
    "         scene=Scene(  \n",
    "         xaxis=XAxis(axis),\n",
    "         yaxis=YAxis(axis), \n",
    "         zaxis=ZAxis(axis), \n",
    "        ),\n",
    "     margin=Margin(\n",
    "        t=100\n",
    "    ),\n",
    "    hovermode='closest',\n",
    "    annotations=Annotations([\n",
    "           Annotation(\n",
    "           showarrow=False, \n",
    "            text=\"Data source: <a href='https://www.instagram.com'>[1] Instagram</a>\",\n",
    "            xref='paper',     \n",
    "            yref='paper',     \n",
    "            x=0,  \n",
    "            y=0.1,  \n",
    "            xanchor='left',   \n",
    "            yanchor='bottom',  \n",
    "            font=Font(\n",
    "            size=14 \n",
    "            )     \n",
    "            )\n",
    "        ]),    )"
   ]
  },
  {
   "cell_type": "code",
   "execution_count": 18,
   "metadata": {},
   "outputs": [],
   "source": [
    "data=Data([trace1, trace2])\n",
    "fig=Figure(data=data, layout=layout)\n",
    "#plot_url = py.plot(fig) #get url"
   ]
  },
  {
   "cell_type": "code",
   "execution_count": null,
   "metadata": {},
   "outputs": [],
   "source": []
  }
 ],
 "metadata": {
  "kernelspec": {
   "display_name": "Python 3",
   "language": "python",
   "name": "python3"
  },
  "language_info": {
   "codemirror_mode": {
    "name": "ipython",
    "version": 3
   },
   "file_extension": ".py",
   "mimetype": "text/x-python",
   "name": "python",
   "nbconvert_exporter": "python",
   "pygments_lexer": "ipython3",
   "version": "3.6.4"
  }
 },
 "nbformat": 4,
 "nbformat_minor": 2
}
